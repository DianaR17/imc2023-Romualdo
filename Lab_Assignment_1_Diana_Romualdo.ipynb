{
  "nbformat": 4,
  "nbformat_minor": 0,
  "metadata": {
    "colab": {
      "provenance": [],
      "authorship_tag": "ABX9TyNF2gC6WtYWP8o+CngWARux",
      "include_colab_link": true
    },
    "kernelspec": {
      "name": "python3",
      "display_name": "Python 3"
    },
    "language_info": {
      "name": "python"
    }
  },
  "cells": [
    {
      "cell_type": "markdown",
      "metadata": {
        "id": "view-in-github",
        "colab_type": "text"
      },
      "source": [
        "<a href=\"https://colab.research.google.com/github/DianaR17/imc2023-Romualdo/blob/main/Lab_Assignment_1_Diana_Romualdo.ipynb\" target=\"_parent\"><img src=\"https://colab.research.google.com/assets/colab-badge.svg\" alt=\"Open In Colab\"/></a>"
      ]
    },
    {
      "cell_type": "code",
      "source": [
        "#import libraries\n",
        "import numpy as np\n",
        "import matplotlib.pylab as plt\n",
        "import librosa\n",
        "import librosa.display\n",
        "\n",
        "#import audio files\n",
        "!git clone https://github.com/jcdevaney/imc2023.git\n"
      ],
      "metadata": {
        "colab": {
          "base_uri": "https://localhost:8080/"
        },
        "id": "f9CJOy6BkXYz",
        "outputId": "0484d296-23b7-4e88-cbdb-be5b845d2816"
      },
      "execution_count": null,
      "outputs": [
        {
          "output_type": "stream",
          "name": "stdout",
          "text": [
            "fatal: destination path 'imc2023' already exists and is not an empty directory.\n"
          ]
        }
      ]
    },
    {
      "cell_type": "code",
      "execution_count": null,
      "metadata": {
        "id": "-1q_rAqLgErB"
      },
      "outputs": [],
      "source": [
        "def printText(Rock):\n",
        "    print(Rock)"
      ]
    },
    {
      "cell_type": "code",
      "source": [
        "printText('GoodBye')"
      ],
      "metadata": {
        "colab": {
          "base_uri": "https://localhost:8080/"
        },
        "id": "q95A2Le_hB1z",
        "outputId": "364c2f5a-0376-4aba-b7ff-54a156b3cbce"
      },
      "execution_count": null,
      "outputs": [
        {
          "output_type": "stream",
          "name": "stdout",
          "text": [
            "GoodBye\n"
          ]
        }
      ]
    },
    {
      "cell_type": "code",
      "source": [
        "printText('Rock')"
      ],
      "metadata": {
        "colab": {
          "base_uri": "https://localhost:8080/"
        },
        "id": "yKUi8zFf7Lgq",
        "outputId": "f348da4a-6750-4bd8-9396-f2c98ad784a5"
      },
      "execution_count": null,
      "outputs": [
        {
          "output_type": "stream",
          "name": "stdout",
          "text": [
            "Rock\n"
          ]
        }
      ]
    },
    {
      "cell_type": "code",
      "source": [
        "def printTextNum(Rock,GoodBye):\n",
        "    print(Rock)\n",
        "    print(GoodBye)"
      ],
      "metadata": {
        "id": "SZO9kF42hR7O"
      },
      "execution_count": null,
      "outputs": []
    },
    {
      "cell_type": "code",
      "source": [
        "printTextNum('GoodBye',2)"
      ],
      "metadata": {
        "colab": {
          "base_uri": "https://localhost:8080/"
        },
        "id": "PMlu83fGiUzX",
        "outputId": "2f1e9750-fe0c-486a-f79d-9a8821d2774e"
      },
      "execution_count": null,
      "outputs": [
        {
          "output_type": "stream",
          "name": "stdout",
          "text": [
            "GoodBye\n",
            "2\n"
          ]
        }
      ]
    },
    {
      "cell_type": "code",
      "source": [
        "printTextNum('GoodBye',44100)"
      ],
      "metadata": {
        "colab": {
          "base_uri": "https://localhost:8080/"
        },
        "id": "LWtO_H3KiyLj",
        "outputId": "d2070a29-9647-47f8-b248-4b8dba76e970"
      },
      "execution_count": null,
      "outputs": [
        {
          "output_type": "stream",
          "name": "stdout",
          "text": [
            "GoodBye\n",
            "44100\n"
          ]
        }
      ]
    },
    {
      "cell_type": "code",
      "source": [
        "printTextNum('GoodBye',441)"
      ],
      "metadata": {
        "colab": {
          "base_uri": "https://localhost:8080/"
        },
        "id": "d-TJz7l4i5Ii",
        "outputId": "d7b1b9c3-f1a7-4ed6-d2a2-8db281aac96c"
      },
      "execution_count": null,
      "outputs": [
        {
          "output_type": "stream",
          "name": "stdout",
          "text": [
            "GoodBye\n",
            "441\n"
          ]
        }
      ]
    },
    {
      "cell_type": "code",
      "source": [
        "printTextNum('Rock',2)"
      ],
      "metadata": {
        "colab": {
          "base_uri": "https://localhost:8080/"
        },
        "id": "k3XtR5su7dZv",
        "outputId": "4c9e7327-6790-4a23-c958-a733c68face6"
      },
      "execution_count": null,
      "outputs": [
        {
          "output_type": "stream",
          "name": "stdout",
          "text": [
            "Rock\n",
            "2\n"
          ]
        }
      ]
    },
    {
      "cell_type": "code",
      "source": [
        "file = 'imc2023/audioFiles/GoodBye.wav'\n",
        "samplingRate = 44100\n",
        "sig, sr = librosa.load(file,mono=True,sr=samplingRate)\n",
        "\n",
        "# plot time domain representation of the signal\n",
        "plt.plot(sig)\n",
        "\n",
        "# add x and y labels\n",
        "plt.xlabel('Time (seconds)')\n",
        "plt.ylabel('Amplitude')\n"
      ],
      "metadata": {
        "colab": {
          "base_uri": "https://localhost:8080/",
          "height": 296
        },
        "id": "l3Jy36cI6WJQ",
        "outputId": "abefd665-749f-4138-801a-cb19ab5e01fa"
      },
      "execution_count": 277,
      "outputs": [
        {
          "output_type": "execute_result",
          "data": {
            "text/plain": [
              "Text(0, 0.5, 'Amplitude')"
            ]
          },
          "metadata": {},
          "execution_count": 277
        },
        {
          "output_type": "display_data",
          "data": {
            "text/plain": [
              "<Figure size 432x288 with 1 Axes>"
            ],
            "image/png": "[encoded data removed]"
          },
          "metadata": {
            "needs_background": "light"
          }
        }
      ]
    },
    {
      "cell_type": "code",
      "source": [
        "file = 'imc2023/audioFiles/GoodBye.wav'\n",
        "samplingRate = 441\n",
        "sig, sr = librosa.load(file,mono=True,sr=samplingRate)\n",
        "\n",
        "# plot time domain representation of the signal\n",
        "plt.plot(sig)\n",
        "\n",
        "# add x and y labels\n",
        "plt.xlabel('Time (seconds)')\n",
        "plt.ylabel('Amplitude')\n"
      ],
      "metadata": {
        "colab": {
          "base_uri": "https://localhost:8080/",
          "height": 296
        },
        "id": "cMCRXgCO009Y",
        "outputId": "f2383680-a584-4dc8-b8b1-1b9bc94bd54c"
      },
      "execution_count": 276,
      "outputs": [
        {
          "output_type": "execute_result",
          "data": {
            "text/plain": [
              "Text(0, 0.5, 'Amplitude')"
            ]
          },
          "metadata": {},
          "execution_count": 276
        },
        {
          "output_type": "display_data",
          "data": {
            "text/plain": [
              "<Figure size 432x288 with 1 Axes>"
            ],
            "image/png": "[encoded data removed]"
          },
          "metadata": {
            "needs_background": "light"
          }
        }
      ]
    }
  ]
}