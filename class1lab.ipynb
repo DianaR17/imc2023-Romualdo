{
  "nbformat": 4,
  "nbformat_minor": 0,
  "metadata": {
    "colab": {
      "provenance": [],
      "authorship_tag": "ABX9TyOKtkQNg+fWsIr94bqBWYXV",
      "include_colab_link": true
    },
    "kernelspec": {
      "name": "python3",
      "display_name": "Python 3"
    },
    "language_info": {
      "name": "python"
    }
  },
  "cells": [
    {
      "cell_type": "markdown",
      "metadata": {
        "id": "view-in-github",
        "colab_type": "text"
      },
      "source": [
        "<a href=\"https://colab.research.google.com/github/DianaR17/imc2023-Romualdo/blob/main/class1lab.ipynb\" target=\"_parent\"><img src=\"https://colab.research.google.com/assets/colab-badge.svg\" alt=\"Open In Colab\"/></a>"
      ]
    },
    {
      "cell_type": "code",
      "execution_count": 1,
      "metadata": {
        "id": "i5mmSf_8IyVm"
      },
      "outputs": [],
      "source": [
        "fundamental = 55\n"
      ]
    },
    {
      "cell_type": "code",
      "source": [
        "print(fundamental)"
      ],
      "metadata": {
        "id": "tkbu23mdOiCS",
        "outputId": "5e4d188b-183c-41d5-c92b-d7c76daa0cbe",
        "colab": {
          "base_uri": "https://localhost:8080/"
        }
      },
      "execution_count": 2,
      "outputs": [
        {
          "output_type": "stream",
          "name": "stdout",
          "text": [
            "55\n"
          ]
        }
      ]
    },
    {
      "cell_type": "code",
      "source": [
        "firstPartial = 55 * 2\n",
        "print (firstPartial)"
      ],
      "metadata": {
        "id": "0AT2guG_P65Y",
        "outputId": "d461818d-6168-4a6c-f1f1-205d932317d4",
        "colab": {
          "base_uri": "https://localhost:8080/"
        }
      },
      "execution_count": 10,
      "outputs": [
        {
          "output_type": "stream",
          "name": "stdout",
          "text": [
            "110\n"
          ]
        }
      ]
    },
    {
      "cell_type": "code",
      "source": [
        "secondPartial = 55 * 3\n",
        "print (secondPartial)"
      ],
      "metadata": {
        "id": "8Bt_t2xfQpBg",
        "outputId": "a17bf208-8eb2-4355-cd8f-9cae7d9a16b2",
        "colab": {
          "base_uri": "https://localhost:8080/"
        }
      },
      "execution_count": 13,
      "outputs": [
        {
          "output_type": "stream",
          "name": "stdout",
          "text": [
            "165\n"
          ]
        }
      ]
    },
    {
      "cell_type": "code",
      "source": [
        "thirdpartial = 55 * 4\n",
        "print (thirdpartial)"
      ],
      "metadata": {
        "id": "-ovGuCHFQyg1",
        "outputId": "598b2900-d07b-4a69-87ff-f9c35b941f90",
        "colab": {
          "base_uri": "https://localhost:8080/"
        }
      },
      "execution_count": 14,
      "outputs": [
        {
          "output_type": "stream",
          "name": "stdout",
          "text": [
            "220\n"
          ]
        }
      ]
    },
    {
      "cell_type": "code",
      "source": [
        "fourthpartial = 55 * 5 \n",
        "print (fourthpartial)"
      ],
      "metadata": {
        "id": "CGt9cNW3RGNe",
        "outputId": "ece868e5-6eb4-46ae-a12b-2dac4b0beee1",
        "colab": {
          "base_uri": "https://localhost:8080/"
        }
      },
      "execution_count": 15,
      "outputs": [
        {
          "output_type": "stream",
          "name": "stdout",
          "text": [
            "275\n"
          ]
        }
      ]
    },
    {
      "cell_type": "code",
      "source": [
        "fifthpartial = 55 * 6\n",
        "print (fifthpartial)"
      ],
      "metadata": {
        "id": "Rutwn82FRMyd",
        "outputId": "c8e61ba7-2d1a-425e-e27c-a9670b7a12ae",
        "colab": {
          "base_uri": "https://localhost:8080/"
        }
      },
      "execution_count": 16,
      "outputs": [
        {
          "output_type": "stream",
          "name": "stdout",
          "text": [
            "330\n"
          ]
        }
      ]
    },
    {
      "cell_type": "code",
      "source": [
        "import math\n",
        "cents = math.log(3/2) * 1200 / math.log(2)\n",
        "print(cents)"
      ],
      "metadata": {
        "id": "X6iByLv0RSdV",
        "outputId": "af4ef120-0707-483b-e95c-262c737d5909",
        "colab": {
          "base_uri": "https://localhost:8080/"
        }
      },
      "execution_count": 17,
      "outputs": [
        {
          "output_type": "stream",
          "name": "stdout",
          "text": [
            "701.9550008653874\n"
          ]
        }
      ]
    },
    {
      "cell_type": "code",
      "source": [
        "cents = math.log(165/110) * 1200 / math.log(2)\n",
        "print(cents)"
      ],
      "metadata": {
        "id": "bLOIFGzqTKXc",
        "outputId": "f52be650-4819-4b77-d1ba-8834341d517c",
        "colab": {
          "base_uri": "https://localhost:8080/"
        }
      },
      "execution_count": 18,
      "outputs": [
        {
          "output_type": "stream",
          "name": "stdout",
          "text": [
            "701.9550008653874\n"
          ]
        }
      ]
    },
    {
      "cell_type": "code",
      "source": [
        "cents = math.log(275/220) * 1200 / math.log(2)\n",
        "print(cents)\n",
        "\n"
      ],
      "metadata": {
        "id": "wgXI30kLT5Ts",
        "outputId": "5be68c61-0a0b-492f-d527-b4b2b9dc3e88",
        "colab": {
          "base_uri": "https://localhost:8080/"
        }
      },
      "execution_count": 19,
      "outputs": [
        {
          "output_type": "stream",
          "name": "stdout",
          "text": [
            "386.3137138648348\n"
          ]
        }
      ]
    },
    {
      "cell_type": "code",
      "source": [
        "cents = math.log(330/55) * 1200 / math.log(2)\n",
        "print(cents)"
      ],
      "metadata": {
        "id": "6i_IcgckUyZ0",
        "outputId": "355cbc9f-792f-4bfd-e8ef-d8d0ce1857e7",
        "colab": {
          "base_uri": "https://localhost:8080/"
        }
      },
      "execution_count": 20,
      "outputs": [
        {
          "output_type": "stream",
          "name": "stdout",
          "text": [
            "3101.9550008653873\n"
          ]
        }
      ]
    },
    {
      "cell_type": "code",
      "source": [
        "cents = math.log(165/55) * 1200 / math.log(2)\n",
        "print (cents)"
      ],
      "metadata": {
        "id": "lWkC4J91VApE",
        "outputId": "98313c27-751e-429e-9b67-612043c81511",
        "colab": {
          "base_uri": "https://localhost:8080/"
        }
      },
      "execution_count": 21,
      "outputs": [
        {
          "output_type": "stream",
          "name": "stdout",
          "text": [
            "1901.9550008653878\n"
          ]
        }
      ]
    },
    {
      "cell_type": "code",
      "source": [
        "ents = math.log(220/55) * 1200 / math.log(2)\n",
        "print(cents)"
      ],
      "metadata": {
        "id": "IB1pP9I-VuTj",
        "outputId": "73f62d3a-47c1-4c55-a142-2a3c4d548b55",
        "colab": {
          "base_uri": "https://localhost:8080/"
        }
      },
      "execution_count": 22,
      "outputs": [
        {
          "output_type": "stream",
          "name": "stdout",
          "text": [
            "1901.9550008653878\n"
          ]
        }
      ]
    },
    {
      "cell_type": "code",
      "source": [],
      "metadata": {
        "id": "hBGUNA_MV-W1"
      },
      "execution_count": null,
      "outputs": []
    }
  ]
}